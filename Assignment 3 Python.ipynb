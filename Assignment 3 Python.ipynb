{
 "cells": [
  {
   "cell_type": "code",
   "execution_count": 1,
   "id": "d2904068",
   "metadata": {},
   "outputs": [
    {
     "name": "stdout",
     "output_type": "stream",
     "text": [
      "3.8.8 (default, Apr 13 2021, 15:08:03) [MSC v.1916 64 bit (AMD64)]\n"
     ]
    }
   ],
   "source": [
    "#Write a Python program to get the Python version you are using.\n",
    "import sys\n",
    "print(sys.version)"
   ]
  },
  {
   "cell_type": "code",
   "execution_count": 3,
   "id": "e73fbf92",
   "metadata": {},
   "outputs": [
    {
     "name": "stdout",
     "output_type": "stream",
     "text": [
      "Today's date: 2021-10-24\n",
      "12:16:16\n"
     ]
    }
   ],
   "source": [
    "#Write a Python program to display the current date and time.\n",
    "from datetime import date\n",
    "today = date.today()\n",
    "print(\"Today's date:\", today)\n",
    "\n",
    "import time\n",
    "print(time.strftime(\"%I:%M:%M\"))"
   ]
  },
  {
   "cell_type": "code",
   "execution_count": 4,
   "id": "811c38b0",
   "metadata": {},
   "outputs": [
    {
     "name": "stdout",
     "output_type": "stream",
     "text": [
      "Input the radius of the circle : 7\n",
      "The area of the circle with radius 7.0 is: 153.93804002589985\n"
     ]
    }
   ],
   "source": [
    "#Write a Python program which accepts the radius of a circle from the user and compute the area.\n",
    "from math import pi\n",
    "r = float(input (\"Input the radius of the circle : \"))\n",
    "print (\"The area of the circle with radius \" + str(r) + \" is: \" + str(pi * r**2))\n",
    "\n"
   ]
  },
  {
   "cell_type": "code",
   "execution_count": 10,
   "id": "d5b67c3e",
   "metadata": {},
   "outputs": [
    {
     "name": "stdout",
     "output_type": "stream",
     "text": [
      "Input your First Name : Imran \n",
      "Input your Last Name : Ali\n",
      "Ali Imran \n"
     ]
    }
   ],
   "source": [
    "#Write a Python program which accepts the user's first and last name and print them in\n",
    "#reverse order with a space between them.\n",
    "\n",
    "fname = input(\"Input your First Name : \")\n",
    "lname = input(\"Input your Last Name : \")\n",
    "print ( lname + \" \" + fname)\n"
   ]
  },
  {
   "cell_type": "code",
   "execution_count": 12,
   "id": "7839121d",
   "metadata": {},
   "outputs": [
    {
     "name": "stdout",
     "output_type": "stream",
     "text": [
      "enter first number: 9\n",
      "enter second number: 9\n",
      "18\n"
     ]
    }
   ],
   "source": [
    "#Write a python program which takes two inputs from user and print them addition\n",
    "a = int(input(\"enter first number: \"))\n",
    "b = int(input(\"enter second number: \"))\n",
    "sum = a + b\n",
    "print(sum)"
   ]
  },
  {
   "cell_type": "code",
   "execution_count": 13,
   "id": "02ce82fd",
   "metadata": {},
   "outputs": [
    {
     "name": "stdout",
     "output_type": "stream",
     "text": [
      "Enter English Marks99\n",
      "Enter islamyiat Marks87\n",
      "Enter Maths Marks88\n",
      "Enter Physics Marks76\n",
      "Enter Urdu Marks88\n",
      "Your Grad is A+\n"
     ]
    }
   ],
   "source": [
    "#Write a program which takes 5 inputs from user for different subject’s marks, total it\n",
    "#and generate mark sheet using grades ?\n",
    "Eng=int(input(\"Enter English Marks\"))\n",
    "isl=int(input(\"Enter islamyiat Marks\"))\n",
    "maths=int(input(\"Enter Maths Marks\"))\n",
    "phy=int(input(\"Enter Physics Marks\"))\n",
    "urdu=int(input(\"Enter Urdu Marks\"))\n",
    "total=500\n",
    "percent =(Eng + isl + maths + phy + urdu )/total*100\n",
    "if percent < 100 and percent >=80:\n",
    "    print(\"Your Grad is A+\");\n",
    "elif percent < 70 and percent >= 70:\n",
    "    print(\"Your Grad is A\")\n",
    "elif percent < 60 and percent >=60:\n",
    "    print(\"Your Grad is B\")\n",
    "elif percent < 50 and percent >= 40:\n",
    "    print (\"Your Grad is C\")\n",
    "elif percent < 50 and percent >= 40:\n",
    "    print(\"Your Grad is D\")\n",
    "elif percent < 40 and percent >=33:\n",
    "    print(\"Your Grad is E\")\n",
    "else:\n",
    "    print (\"You are Fail\")"
   ]
  },
  {
   "cell_type": "code",
   "execution_count": 14,
   "id": "8141a7e9",
   "metadata": {},
   "outputs": [
    {
     "name": "stdout",
     "output_type": "stream",
     "text": [
      "Enter  the No8\n",
      "No is Even\n"
     ]
    }
   ],
   "source": [
    "#Write a program which take input from user and identify that the given number is even or odd?\n",
    "\n",
    "num = int(input(\"Enter  the No\"))\n",
    "if (num % 2) == 0:\n",
    "    print(\"No is Even\");\n",
    "else :\n",
    "    print(\"No is odd\")"
   ]
  },
  {
   "cell_type": "code",
   "execution_count": 15,
   "id": "c86ac1a8",
   "metadata": {},
   "outputs": [
    {
     "name": "stdout",
     "output_type": "stream",
     "text": [
      "9\n"
     ]
    }
   ],
   "source": [
    "#Write a program which print the length of the list?\n",
    "x=[1,2,3,4,5,6,7,8,9]\n",
    "print(len(x))"
   ]
  },
  {
   "cell_type": "code",
   "execution_count": 16,
   "id": "562e56fd",
   "metadata": {},
   "outputs": [
    {
     "name": "stdout",
     "output_type": "stream",
     "text": [
      "11\n"
     ]
    }
   ],
   "source": [
    "#Write a Python program to sum all the numeric items in a list?\n",
    "def sum_list(items):\n",
    "    sum_numbers = 0\n",
    "    for x in items:\n",
    "        sum_numbers += x\n",
    "    return sum_numbers\n",
    "print(sum_list([1,2,8]))"
   ]
  },
  {
   "cell_type": "code",
   "execution_count": 17,
   "id": "330edec4",
   "metadata": {},
   "outputs": [
    {
     "name": "stdout",
     "output_type": "stream",
     "text": [
      "Largest No is 8\n"
     ]
    }
   ],
   "source": [
    "#11.Write a Python program to get the largest number from a numeric list.\n",
    "x=[1,2,3,4,5,6,7,8]\n",
    "print(\"Largest No is\" ,x[7])"
   ]
  },
  {
   "cell_type": "code",
   "execution_count": 18,
   "id": "c6f997fc",
   "metadata": {},
   "outputs": [
    {
     "name": "stdout",
     "output_type": "stream",
     "text": [
      "1\n",
      "2\n",
      "3\n",
      "4\n"
     ]
    }
   ],
   "source": [
    "#Take a list, say for example this one:\n",
    "#a = [1, 1, 2, 3, 5, 8, 13, 21, 34, 55, 89]\n",
    "#Write a program that prints out all the elements of the list that are less than 5.\n",
    "\n",
    "x=[1,2,3,4,5,6,7,8]\n",
    "for i in x:\n",
    "    if i<5:\n",
    "        print(i)\n"
   ]
  },
  {
   "cell_type": "code",
   "execution_count": null,
   "id": "b6393585",
   "metadata": {},
   "outputs": [],
   "source": []
  }
 ],
 "metadata": {
  "kernelspec": {
   "display_name": "Python 3",
   "language": "python",
   "name": "python3"
  },
  "language_info": {
   "codemirror_mode": {
    "name": "ipython",
    "version": 3
   },
   "file_extension": ".py",
   "mimetype": "text/x-python",
   "name": "python",
   "nbconvert_exporter": "python",
   "pygments_lexer": "ipython3",
   "version": "3.8.8"
  }
 },
 "nbformat": 4,
 "nbformat_minor": 5
}
